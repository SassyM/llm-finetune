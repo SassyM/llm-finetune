{
 "cells": [
  {
   "cell_type": "code",
   "execution_count": 1,
   "id": "3042a2d6",
   "metadata": {
    "_cell_guid": "b1076dfc-b9ad-4769-8c92-a6c4dae69d19",
    "_uuid": "8f2839f25d086af736a60e9eeb907d3b93b6e0e5",
    "execution": {
     "iopub.execute_input": "2025-08-25T22:29:04.508394Z",
     "iopub.status.busy": "2025-08-25T22:29:04.508161Z",
     "iopub.status.idle": "2025-08-25T22:29:19.577754Z",
     "shell.execute_reply": "2025-08-25T22:29:19.577197Z"
    },
    "papermill": {
     "duration": 15.075277,
     "end_time": "2025-08-25T22:29:19.579144",
     "exception": false,
     "start_time": "2025-08-25T22:29:04.503867",
     "status": "completed"
    },
    "tags": []
   },
   "outputs": [],
   "source": [
    " # All imports\n",
    "import numpy as np\n",
    "import pandas as pd \n",
    "import os\n",
    "import json\n",
    "import torch\n",
    "import torch.nn as nn\n",
    "from torch.utils.data import Dataset, DataLoader\n",
    "from torch.optim import AdamW\n",
    "from sklearn.model_selection import train_test_split\n",
    "from transformers import AutoTokenizer, AutoModelForSequenceClassification\n",
    "import matplotlib.pyplot as plt\n",
    "import seaborn as sns"
   ]
  },
  {
   "cell_type": "code",
   "execution_count": 2,
   "id": "cdc0b6df",
   "metadata": {
    "execution": {
     "iopub.execute_input": "2025-08-25T22:29:19.585978Z",
     "iopub.status.busy": "2025-08-25T22:29:19.585658Z",
     "iopub.status.idle": "2025-08-25T22:29:19.591778Z",
     "shell.execute_reply": "2025-08-25T22:29:19.591224Z"
    },
    "papermill": {
     "duration": 0.010572,
     "end_time": "2025-08-25T22:29:19.592872",
     "exception": false,
     "start_time": "2025-08-25T22:29:19.582300",
     "status": "completed"
    },
    "tags": []
   },
   "outputs": [
    {
     "data": {
      "text/plain": [
       "{'train.csv': '/kaggle/input/llm-classification-finetuning/train.csv',\n",
       " 'test.csv': '/kaggle/input/llm-classification-finetuning/test.csv'}"
      ]
     },
     "execution_count": 2,
     "metadata": {},
     "output_type": "execute_result"
    }
   ],
   "source": [
    "data = \"/kaggle/input/llm-classification-finetuning\"\n",
    "\n",
    "# getting file paths from the directory\n",
    "file_paths = {\"train.csv\": \"\", \"test.csv\": \"\"}\n",
    "for dirname, _, filenames in os.walk(data):\n",
    "    for filename in filenames:\n",
    "        fullpath = os.path.join(dirname, filename)\n",
    "        # print(fullpath)\n",
    "        if filename in file_paths:\n",
    "            file_paths[filename] = fullpath\n",
    "\n",
    "file_paths"
   ]
  },
  {
   "cell_type": "code",
   "execution_count": 3,
   "id": "25e9db0c",
   "metadata": {
    "execution": {
     "iopub.execute_input": "2025-08-25T22:29:19.599936Z",
     "iopub.status.busy": "2025-08-25T22:29:19.599175Z",
     "iopub.status.idle": "2025-08-25T22:29:24.792774Z",
     "shell.execute_reply": "2025-08-25T22:29:24.791980Z"
    },
    "papermill": {
     "duration": 5.198144,
     "end_time": "2025-08-25T22:29:24.794033",
     "exception": false,
     "start_time": "2025-08-25T22:29:19.595889",
     "status": "completed"
    },
    "tags": []
   },
   "outputs": [
    {
     "data": {
      "text/html": [
       "<div>\n",
       "<style scoped>\n",
       "    .dataframe tbody tr th:only-of-type {\n",
       "        vertical-align: middle;\n",
       "    }\n",
       "\n",
       "    .dataframe tbody tr th {\n",
       "        vertical-align: top;\n",
       "    }\n",
       "\n",
       "    .dataframe thead th {\n",
       "        text-align: right;\n",
       "    }\n",
       "</style>\n",
       "<table border=\"1\" class=\"dataframe\">\n",
       "  <thead>\n",
       "    <tr style=\"text-align: right;\">\n",
       "      <th></th>\n",
       "      <th>id</th>\n",
       "      <th>model_a</th>\n",
       "      <th>model_b</th>\n",
       "      <th>prompt</th>\n",
       "      <th>response_a</th>\n",
       "      <th>response_b</th>\n",
       "      <th>winner_model_a</th>\n",
       "      <th>winner_model_b</th>\n",
       "      <th>winner_tie</th>\n",
       "    </tr>\n",
       "  </thead>\n",
       "  <tbody>\n",
       "    <tr>\n",
       "      <th>0</th>\n",
       "      <td>30192</td>\n",
       "      <td>gpt-4-1106-preview</td>\n",
       "      <td>gpt-4-0613</td>\n",
       "      <td>[\"Is it morally right to try to have a certain...</td>\n",
       "      <td>[\"The question of whether it is morally right ...</td>\n",
       "      <td>[\"As an AI, I don't have personal beliefs or o...</td>\n",
       "      <td>1</td>\n",
       "      <td>0</td>\n",
       "      <td>0</td>\n",
       "    </tr>\n",
       "    <tr>\n",
       "      <th>1</th>\n",
       "      <td>53567</td>\n",
       "      <td>koala-13b</td>\n",
       "      <td>gpt-4-0613</td>\n",
       "      <td>[\"What is the difference between marriage lice...</td>\n",
       "      <td>[\"A marriage license is a legal document that ...</td>\n",
       "      <td>[\"A marriage license and a marriage certificat...</td>\n",
       "      <td>0</td>\n",
       "      <td>1</td>\n",
       "      <td>0</td>\n",
       "    </tr>\n",
       "    <tr>\n",
       "      <th>2</th>\n",
       "      <td>65089</td>\n",
       "      <td>gpt-3.5-turbo-0613</td>\n",
       "      <td>mistral-medium</td>\n",
       "      <td>[\"explain function calling. how would you call...</td>\n",
       "      <td>[\"Function calling is the process of invoking ...</td>\n",
       "      <td>[\"Function calling is the process of invoking ...</td>\n",
       "      <td>0</td>\n",
       "      <td>0</td>\n",
       "      <td>1</td>\n",
       "    </tr>\n",
       "    <tr>\n",
       "      <th>3</th>\n",
       "      <td>96401</td>\n",
       "      <td>llama-2-13b-chat</td>\n",
       "      <td>mistral-7b-instruct</td>\n",
       "      <td>[\"How can I create a test set for a very rare ...</td>\n",
       "      <td>[\"Creating a test set for a very rare category...</td>\n",
       "      <td>[\"When building a classifier for a very rare c...</td>\n",
       "      <td>1</td>\n",
       "      <td>0</td>\n",
       "      <td>0</td>\n",
       "    </tr>\n",
       "    <tr>\n",
       "      <th>4</th>\n",
       "      <td>198779</td>\n",
       "      <td>koala-13b</td>\n",
       "      <td>gpt-3.5-turbo-0314</td>\n",
       "      <td>[\"What is the best way to travel from Tel-Aviv...</td>\n",
       "      <td>[\"The best way to travel from Tel Aviv to Jeru...</td>\n",
       "      <td>[\"The best way to travel from Tel-Aviv to Jeru...</td>\n",
       "      <td>0</td>\n",
       "      <td>1</td>\n",
       "      <td>0</td>\n",
       "    </tr>\n",
       "  </tbody>\n",
       "</table>\n",
       "</div>"
      ],
      "text/plain": [
       "       id             model_a              model_b  \\\n",
       "0   30192  gpt-4-1106-preview           gpt-4-0613   \n",
       "1   53567           koala-13b           gpt-4-0613   \n",
       "2   65089  gpt-3.5-turbo-0613       mistral-medium   \n",
       "3   96401    llama-2-13b-chat  mistral-7b-instruct   \n",
       "4  198779           koala-13b   gpt-3.5-turbo-0314   \n",
       "\n",
       "                                              prompt  \\\n",
       "0  [\"Is it morally right to try to have a certain...   \n",
       "1  [\"What is the difference between marriage lice...   \n",
       "2  [\"explain function calling. how would you call...   \n",
       "3  [\"How can I create a test set for a very rare ...   \n",
       "4  [\"What is the best way to travel from Tel-Aviv...   \n",
       "\n",
       "                                          response_a  \\\n",
       "0  [\"The question of whether it is morally right ...   \n",
       "1  [\"A marriage license is a legal document that ...   \n",
       "2  [\"Function calling is the process of invoking ...   \n",
       "3  [\"Creating a test set for a very rare category...   \n",
       "4  [\"The best way to travel from Tel Aviv to Jeru...   \n",
       "\n",
       "                                          response_b  winner_model_a  \\\n",
       "0  [\"As an AI, I don't have personal beliefs or o...               1   \n",
       "1  [\"A marriage license and a marriage certificat...               0   \n",
       "2  [\"Function calling is the process of invoking ...               0   \n",
       "3  [\"When building a classifier for a very rare c...               1   \n",
       "4  [\"The best way to travel from Tel-Aviv to Jeru...               0   \n",
       "\n",
       "   winner_model_b  winner_tie  \n",
       "0               0           0  \n",
       "1               1           0  \n",
       "2               0           1  \n",
       "3               0           0  \n",
       "4               1           0  "
      ]
     },
     "execution_count": 3,
     "metadata": {},
     "output_type": "execute_result"
    }
   ],
   "source": [
    "# reading data from file\n",
    "train_df = pd.read_csv(file_paths['train.csv'])\n",
    "test_df = pd.read_csv(file_paths['test.csv'])\n",
    "\n",
    "train_df.head()"
   ]
  },
  {
   "cell_type": "code",
   "execution_count": 4,
   "id": "ef5b489c",
   "metadata": {
    "execution": {
     "iopub.execute_input": "2025-08-25T22:29:24.802257Z",
     "iopub.status.busy": "2025-08-25T22:29:24.802020Z",
     "iopub.status.idle": "2025-08-25T22:29:24.809775Z",
     "shell.execute_reply": "2025-08-25T22:29:24.808960Z"
    },
    "papermill": {
     "duration": 0.013023,
     "end_time": "2025-08-25T22:29:24.810830",
     "exception": false,
     "start_time": "2025-08-25T22:29:24.797807",
     "status": "completed"
    },
    "tags": []
   },
   "outputs": [
    {
     "data": {
      "text/html": [
       "<div>\n",
       "<style scoped>\n",
       "    .dataframe tbody tr th:only-of-type {\n",
       "        vertical-align: middle;\n",
       "    }\n",
       "\n",
       "    .dataframe tbody tr th {\n",
       "        vertical-align: top;\n",
       "    }\n",
       "\n",
       "    .dataframe thead th {\n",
       "        text-align: right;\n",
       "    }\n",
       "</style>\n",
       "<table border=\"1\" class=\"dataframe\">\n",
       "  <thead>\n",
       "    <tr style=\"text-align: right;\">\n",
       "      <th></th>\n",
       "      <th>id</th>\n",
       "      <th>prompt</th>\n",
       "      <th>response_a</th>\n",
       "      <th>response_b</th>\n",
       "    </tr>\n",
       "  </thead>\n",
       "  <tbody>\n",
       "    <tr>\n",
       "      <th>0</th>\n",
       "      <td>136060</td>\n",
       "      <td>[\"I have three oranges today, I ate an orange ...</td>\n",
       "      <td>[\"You have two oranges today.\"]</td>\n",
       "      <td>[\"You still have three oranges. Eating an oran...</td>\n",
       "    </tr>\n",
       "    <tr>\n",
       "      <th>1</th>\n",
       "      <td>211333</td>\n",
       "      <td>[\"You are a mediator in a heated political deb...</td>\n",
       "      <td>[\"Thank you for sharing the details of the sit...</td>\n",
       "      <td>[\"Mr Reddy and Ms Blue both have valid points ...</td>\n",
       "    </tr>\n",
       "    <tr>\n",
       "      <th>2</th>\n",
       "      <td>1233961</td>\n",
       "      <td>[\"How to initialize the classification head wh...</td>\n",
       "      <td>[\"When you want to initialize the classificati...</td>\n",
       "      <td>[\"To initialize the classification head when p...</td>\n",
       "    </tr>\n",
       "  </tbody>\n",
       "</table>\n",
       "</div>"
      ],
      "text/plain": [
       "        id                                             prompt  \\\n",
       "0   136060  [\"I have three oranges today, I ate an orange ...   \n",
       "1   211333  [\"You are a mediator in a heated political deb...   \n",
       "2  1233961  [\"How to initialize the classification head wh...   \n",
       "\n",
       "                                          response_a  \\\n",
       "0                    [\"You have two oranges today.\"]   \n",
       "1  [\"Thank you for sharing the details of the sit...   \n",
       "2  [\"When you want to initialize the classificati...   \n",
       "\n",
       "                                          response_b  \n",
       "0  [\"You still have three oranges. Eating an oran...  \n",
       "1  [\"Mr Reddy and Ms Blue both have valid points ...  \n",
       "2  [\"To initialize the classification head when p...  "
      ]
     },
     "execution_count": 4,
     "metadata": {},
     "output_type": "execute_result"
    }
   ],
   "source": [
    "test_df.head()"
   ]
  },
  {
   "cell_type": "code",
   "execution_count": 5,
   "id": "4ddfdc43",
   "metadata": {
    "execution": {
     "iopub.execute_input": "2025-08-25T22:29:24.817416Z",
     "iopub.status.busy": "2025-08-25T22:29:24.817215Z",
     "iopub.status.idle": "2025-08-25T22:29:24.821238Z",
     "shell.execute_reply": "2025-08-25T22:29:24.820511Z"
    },
    "papermill": {
     "duration": 0.008533,
     "end_time": "2025-08-25T22:29:24.822363",
     "exception": false,
     "start_time": "2025-08-25T22:29:24.813830",
     "status": "completed"
    },
    "tags": []
   },
   "outputs": [
    {
     "name": "stdout",
     "output_type": "stream",
     "text": [
      "Train shape: (57477, 9)\n",
      "Test shape: (3, 4)\n"
     ]
    }
   ],
   "source": [
    "print(f\"Train shape: {train_df.shape}\")\n",
    "print(f\"Test shape: {test_df.shape}\")"
   ]
  },
  {
   "cell_type": "code",
   "execution_count": 6,
   "id": "85f3ff86",
   "metadata": {
    "execution": {
     "iopub.execute_input": "2025-08-25T22:29:24.829089Z",
     "iopub.status.busy": "2025-08-25T22:29:24.828880Z",
     "iopub.status.idle": "2025-08-25T22:29:24.851359Z",
     "shell.execute_reply": "2025-08-25T22:29:24.850741Z"
    },
    "papermill": {
     "duration": 0.027027,
     "end_time": "2025-08-25T22:29:24.852405",
     "exception": false,
     "start_time": "2025-08-25T22:29:24.825378",
     "status": "completed"
    },
    "tags": []
   },
   "outputs": [
    {
     "name": "stdout",
     "output_type": "stream",
     "text": [
      "\n",
      "Missing values:\n",
      "id                0\n",
      "model_a           0\n",
      "model_b           0\n",
      "prompt            0\n",
      "response_a        0\n",
      "response_b        0\n",
      "winner_model_a    0\n",
      "winner_model_b    0\n",
      "winner_tie        0\n",
      "dtype: int64\n"
     ]
    }
   ],
   "source": [
    "# Check for missing values\n",
    "print(\"\\nMissing values:\")\n",
    "print(train_df.isnull().sum())"
   ]
  },
  {
   "cell_type": "code",
   "execution_count": 7,
   "id": "c349fc00",
   "metadata": {
    "execution": {
     "iopub.execute_input": "2025-08-25T22:29:24.859505Z",
     "iopub.status.busy": "2025-08-25T22:29:24.859286Z",
     "iopub.status.idle": "2025-08-25T22:29:25.898027Z",
     "shell.execute_reply": "2025-08-25T22:29:25.897177Z"
    },
    "papermill": {
     "duration": 1.043686,
     "end_time": "2025-08-25T22:29:25.899341",
     "exception": false,
     "start_time": "2025-08-25T22:29:24.855655",
     "status": "completed"
    },
    "tags": []
   },
   "outputs": [
    {
     "data": {
      "text/html": [
       "<div>\n",
       "<style scoped>\n",
       "    .dataframe tbody tr th:only-of-type {\n",
       "        vertical-align: middle;\n",
       "    }\n",
       "\n",
       "    .dataframe tbody tr th {\n",
       "        vertical-align: top;\n",
       "    }\n",
       "\n",
       "    .dataframe thead th {\n",
       "        text-align: right;\n",
       "    }\n",
       "</style>\n",
       "<table border=\"1\" class=\"dataframe\">\n",
       "  <thead>\n",
       "    <tr style=\"text-align: right;\">\n",
       "      <th></th>\n",
       "      <th>id</th>\n",
       "      <th>model_a</th>\n",
       "      <th>model_b</th>\n",
       "      <th>prompt</th>\n",
       "      <th>response_a</th>\n",
       "      <th>response_b</th>\n",
       "      <th>winner_model_a</th>\n",
       "      <th>winner_model_b</th>\n",
       "      <th>winner_tie</th>\n",
       "    </tr>\n",
       "  </thead>\n",
       "  <tbody>\n",
       "    <tr>\n",
       "      <th>0</th>\n",
       "      <td>30192</td>\n",
       "      <td>gpt-4-1106-preview</td>\n",
       "      <td>gpt-4-0613</td>\n",
       "      <td>Is it morally right to try to have a certain p...</td>\n",
       "      <td>The question of whether it is morally right to...</td>\n",
       "      <td>As an AI, I don't have personal beliefs or opi...</td>\n",
       "      <td>1</td>\n",
       "      <td>0</td>\n",
       "      <td>0</td>\n",
       "    </tr>\n",
       "    <tr>\n",
       "      <th>1</th>\n",
       "      <td>53567</td>\n",
       "      <td>koala-13b</td>\n",
       "      <td>gpt-4-0613</td>\n",
       "      <td>What is the difference between marriage licens...</td>\n",
       "      <td>A marriage license is a legal document that al...</td>\n",
       "      <td>A marriage license and a marriage certificate ...</td>\n",
       "      <td>0</td>\n",
       "      <td>1</td>\n",
       "      <td>0</td>\n",
       "    </tr>\n",
       "    <tr>\n",
       "      <th>2</th>\n",
       "      <td>65089</td>\n",
       "      <td>gpt-3.5-turbo-0613</td>\n",
       "      <td>mistral-medium</td>\n",
       "      <td>explain function calling. how would you call a...</td>\n",
       "      <td>Function calling is the process of invoking or...</td>\n",
       "      <td>Function calling is the process of invoking a ...</td>\n",
       "      <td>0</td>\n",
       "      <td>0</td>\n",
       "      <td>1</td>\n",
       "    </tr>\n",
       "    <tr>\n",
       "      <th>3</th>\n",
       "      <td>96401</td>\n",
       "      <td>llama-2-13b-chat</td>\n",
       "      <td>mistral-7b-instruct</td>\n",
       "      <td>How can I create a test set for a very rare ca...</td>\n",
       "      <td>Creating a test set for a very rare category c...</td>\n",
       "      <td>When building a classifier for a very rare cat...</td>\n",
       "      <td>1</td>\n",
       "      <td>0</td>\n",
       "      <td>0</td>\n",
       "    </tr>\n",
       "    <tr>\n",
       "      <th>4</th>\n",
       "      <td>198779</td>\n",
       "      <td>koala-13b</td>\n",
       "      <td>gpt-3.5-turbo-0314</td>\n",
       "      <td>What is the best way to travel from Tel-Aviv t...</td>\n",
       "      <td>The best way to travel from Tel Aviv to Jerusa...</td>\n",
       "      <td>The best way to travel from Tel-Aviv to Jerusa...</td>\n",
       "      <td>0</td>\n",
       "      <td>1</td>\n",
       "      <td>0</td>\n",
       "    </tr>\n",
       "  </tbody>\n",
       "</table>\n",
       "</div>"
      ],
      "text/plain": [
       "       id             model_a              model_b  \\\n",
       "0   30192  gpt-4-1106-preview           gpt-4-0613   \n",
       "1   53567           koala-13b           gpt-4-0613   \n",
       "2   65089  gpt-3.5-turbo-0613       mistral-medium   \n",
       "3   96401    llama-2-13b-chat  mistral-7b-instruct   \n",
       "4  198779           koala-13b   gpt-3.5-turbo-0314   \n",
       "\n",
       "                                              prompt  \\\n",
       "0  Is it morally right to try to have a certain p...   \n",
       "1  What is the difference between marriage licens...   \n",
       "2  explain function calling. how would you call a...   \n",
       "3  How can I create a test set for a very rare ca...   \n",
       "4  What is the best way to travel from Tel-Aviv t...   \n",
       "\n",
       "                                          response_a  \\\n",
       "0  The question of whether it is morally right to...   \n",
       "1  A marriage license is a legal document that al...   \n",
       "2  Function calling is the process of invoking or...   \n",
       "3  Creating a test set for a very rare category c...   \n",
       "4  The best way to travel from Tel Aviv to Jerusa...   \n",
       "\n",
       "                                          response_b  winner_model_a  \\\n",
       "0  As an AI, I don't have personal beliefs or opi...               1   \n",
       "1  A marriage license and a marriage certificate ...               0   \n",
       "2  Function calling is the process of invoking a ...               0   \n",
       "3  When building a classifier for a very rare cat...               1   \n",
       "4  The best way to travel from Tel-Aviv to Jerusa...               0   \n",
       "\n",
       "   winner_model_b  winner_tie  \n",
       "0               0           0  \n",
       "1               1           0  \n",
       "2               0           1  \n",
       "3               0           0  \n",
       "4               1           0  "
      ]
     },
     "execution_count": 7,
     "metadata": {},
     "output_type": "execute_result"
    }
   ],
   "source": [
    "# converting key columns into strings, joining all the items in the list & removing None in list\n",
    "def preprocess_data(df):\n",
    "    \n",
    "    df[\"prompt\"] = df[\"prompt\"].apply(lambda x: ' '.join(json.loads(x)))\n",
    "    df[\"response_a\"] = df[\"response_a\"].apply(lambda x: ' '.join([i for i in json.loads(x) if i is not None]))\n",
    "    df[\"response_b\"] = df[\"response_b\"].apply(lambda x: ' '.join([i for i in json.loads(x) if i is not None]))\n",
    "\n",
    "    return df\n",
    "\n",
    "train_df = preprocess_data(train_df)\n",
    "train_df.head()"
   ]
  },
  {
   "cell_type": "code",
   "execution_count": 8,
   "id": "22e03ca0",
   "metadata": {
    "execution": {
     "iopub.execute_input": "2025-08-25T22:29:25.906836Z",
     "iopub.status.busy": "2025-08-25T22:29:25.906631Z",
     "iopub.status.idle": "2025-08-25T22:29:25.915022Z",
     "shell.execute_reply": "2025-08-25T22:29:25.914412Z"
    },
    "papermill": {
     "duration": 0.013156,
     "end_time": "2025-08-25T22:29:25.916042",
     "exception": false,
     "start_time": "2025-08-25T22:29:25.902886",
     "status": "completed"
    },
    "tags": []
   },
   "outputs": [
    {
     "data": {
      "text/html": [
       "<div>\n",
       "<style scoped>\n",
       "    .dataframe tbody tr th:only-of-type {\n",
       "        vertical-align: middle;\n",
       "    }\n",
       "\n",
       "    .dataframe tbody tr th {\n",
       "        vertical-align: top;\n",
       "    }\n",
       "\n",
       "    .dataframe thead th {\n",
       "        text-align: right;\n",
       "    }\n",
       "</style>\n",
       "<table border=\"1\" class=\"dataframe\">\n",
       "  <thead>\n",
       "    <tr style=\"text-align: right;\">\n",
       "      <th></th>\n",
       "      <th>id</th>\n",
       "      <th>prompt</th>\n",
       "      <th>response_a</th>\n",
       "      <th>response_b</th>\n",
       "    </tr>\n",
       "  </thead>\n",
       "  <tbody>\n",
       "    <tr>\n",
       "      <th>0</th>\n",
       "      <td>136060</td>\n",
       "      <td>I have three oranges today, I ate an orange ye...</td>\n",
       "      <td>You have two oranges today.</td>\n",
       "      <td>You still have three oranges. Eating an orange...</td>\n",
       "    </tr>\n",
       "    <tr>\n",
       "      <th>1</th>\n",
       "      <td>211333</td>\n",
       "      <td>You are a mediator in a heated political debat...</td>\n",
       "      <td>Thank you for sharing the details of the situa...</td>\n",
       "      <td>Mr Reddy and Ms Blue both have valid points in...</td>\n",
       "    </tr>\n",
       "    <tr>\n",
       "      <th>2</th>\n",
       "      <td>1233961</td>\n",
       "      <td>How to initialize the classification head when...</td>\n",
       "      <td>When you want to initialize the classification...</td>\n",
       "      <td>To initialize the classification head when per...</td>\n",
       "    </tr>\n",
       "  </tbody>\n",
       "</table>\n",
       "</div>"
      ],
      "text/plain": [
       "        id                                             prompt  \\\n",
       "0   136060  I have three oranges today, I ate an orange ye...   \n",
       "1   211333  You are a mediator in a heated political debat...   \n",
       "2  1233961  How to initialize the classification head when...   \n",
       "\n",
       "                                          response_a  \\\n",
       "0                        You have two oranges today.   \n",
       "1  Thank you for sharing the details of the situa...   \n",
       "2  When you want to initialize the classification...   \n",
       "\n",
       "                                          response_b  \n",
       "0  You still have three oranges. Eating an orange...  \n",
       "1  Mr Reddy and Ms Blue both have valid points in...  \n",
       "2  To initialize the classification head when per...  "
      ]
     },
     "execution_count": 8,
     "metadata": {},
     "output_type": "execute_result"
    }
   ],
   "source": [
    "test_df = preprocess_data(test_df)\n",
    "test_df.head()"
   ]
  },
  {
   "cell_type": "code",
   "execution_count": 9,
   "id": "b3ff2355",
   "metadata": {
    "execution": {
     "iopub.execute_input": "2025-08-25T22:29:25.923826Z",
     "iopub.status.busy": "2025-08-25T22:29:25.923612Z",
     "iopub.status.idle": "2025-08-25T22:29:28.042668Z",
     "shell.execute_reply": "2025-08-25T22:29:28.042007Z"
    },
    "papermill": {
     "duration": 2.124238,
     "end_time": "2025-08-25T22:29:28.043881",
     "exception": false,
     "start_time": "2025-08-25T22:29:25.919643",
     "status": "completed"
    },
    "tags": []
   },
   "outputs": [
    {
     "data": {
      "text/html": [
       "<div>\n",
       "<style scoped>\n",
       "    .dataframe tbody tr th:only-of-type {\n",
       "        vertical-align: middle;\n",
       "    }\n",
       "\n",
       "    .dataframe tbody tr th {\n",
       "        vertical-align: top;\n",
       "    }\n",
       "\n",
       "    .dataframe thead th {\n",
       "        text-align: right;\n",
       "    }\n",
       "</style>\n",
       "<table border=\"1\" class=\"dataframe\">\n",
       "  <thead>\n",
       "    <tr style=\"text-align: right;\">\n",
       "      <th></th>\n",
       "      <th>id</th>\n",
       "      <th>model_a</th>\n",
       "      <th>model_b</th>\n",
       "      <th>prompt</th>\n",
       "      <th>response_a</th>\n",
       "      <th>response_b</th>\n",
       "      <th>winner_model_a</th>\n",
       "      <th>winner_model_b</th>\n",
       "      <th>winner_tie</th>\n",
       "      <th>label</th>\n",
       "    </tr>\n",
       "  </thead>\n",
       "  <tbody>\n",
       "    <tr>\n",
       "      <th>0</th>\n",
       "      <td>30192</td>\n",
       "      <td>gpt-4-1106-preview</td>\n",
       "      <td>gpt-4-0613</td>\n",
       "      <td>Is it morally right to try to have a certain p...</td>\n",
       "      <td>The question of whether it is morally right to...</td>\n",
       "      <td>As an AI, I don't have personal beliefs or opi...</td>\n",
       "      <td>1</td>\n",
       "      <td>0</td>\n",
       "      <td>0</td>\n",
       "      <td>0</td>\n",
       "    </tr>\n",
       "    <tr>\n",
       "      <th>1</th>\n",
       "      <td>53567</td>\n",
       "      <td>koala-13b</td>\n",
       "      <td>gpt-4-0613</td>\n",
       "      <td>What is the difference between marriage licens...</td>\n",
       "      <td>A marriage license is a legal document that al...</td>\n",
       "      <td>A marriage license and a marriage certificate ...</td>\n",
       "      <td>0</td>\n",
       "      <td>1</td>\n",
       "      <td>0</td>\n",
       "      <td>1</td>\n",
       "    </tr>\n",
       "    <tr>\n",
       "      <th>2</th>\n",
       "      <td>65089</td>\n",
       "      <td>gpt-3.5-turbo-0613</td>\n",
       "      <td>mistral-medium</td>\n",
       "      <td>explain function calling. how would you call a...</td>\n",
       "      <td>Function calling is the process of invoking or...</td>\n",
       "      <td>Function calling is the process of invoking a ...</td>\n",
       "      <td>0</td>\n",
       "      <td>0</td>\n",
       "      <td>1</td>\n",
       "      <td>2</td>\n",
       "    </tr>\n",
       "    <tr>\n",
       "      <th>3</th>\n",
       "      <td>96401</td>\n",
       "      <td>llama-2-13b-chat</td>\n",
       "      <td>mistral-7b-instruct</td>\n",
       "      <td>How can I create a test set for a very rare ca...</td>\n",
       "      <td>Creating a test set for a very rare category c...</td>\n",
       "      <td>When building a classifier for a very rare cat...</td>\n",
       "      <td>1</td>\n",
       "      <td>0</td>\n",
       "      <td>0</td>\n",
       "      <td>0</td>\n",
       "    </tr>\n",
       "    <tr>\n",
       "      <th>4</th>\n",
       "      <td>198779</td>\n",
       "      <td>koala-13b</td>\n",
       "      <td>gpt-3.5-turbo-0314</td>\n",
       "      <td>What is the best way to travel from Tel-Aviv t...</td>\n",
       "      <td>The best way to travel from Tel Aviv to Jerusa...</td>\n",
       "      <td>The best way to travel from Tel-Aviv to Jerusa...</td>\n",
       "      <td>0</td>\n",
       "      <td>1</td>\n",
       "      <td>0</td>\n",
       "      <td>1</td>\n",
       "    </tr>\n",
       "  </tbody>\n",
       "</table>\n",
       "</div>"
      ],
      "text/plain": [
       "       id             model_a              model_b  \\\n",
       "0   30192  gpt-4-1106-preview           gpt-4-0613   \n",
       "1   53567           koala-13b           gpt-4-0613   \n",
       "2   65089  gpt-3.5-turbo-0613       mistral-medium   \n",
       "3   96401    llama-2-13b-chat  mistral-7b-instruct   \n",
       "4  198779           koala-13b   gpt-3.5-turbo-0314   \n",
       "\n",
       "                                              prompt  \\\n",
       "0  Is it morally right to try to have a certain p...   \n",
       "1  What is the difference between marriage licens...   \n",
       "2  explain function calling. how would you call a...   \n",
       "3  How can I create a test set for a very rare ca...   \n",
       "4  What is the best way to travel from Tel-Aviv t...   \n",
       "\n",
       "                                          response_a  \\\n",
       "0  The question of whether it is morally right to...   \n",
       "1  A marriage license is a legal document that al...   \n",
       "2  Function calling is the process of invoking or...   \n",
       "3  Creating a test set for a very rare category c...   \n",
       "4  The best way to travel from Tel Aviv to Jerusa...   \n",
       "\n",
       "                                          response_b  winner_model_a  \\\n",
       "0  As an AI, I don't have personal beliefs or opi...               1   \n",
       "1  A marriage license and a marriage certificate ...               0   \n",
       "2  Function calling is the process of invoking a ...               0   \n",
       "3  When building a classifier for a very rare cat...               1   \n",
       "4  The best way to travel from Tel-Aviv to Jerusa...               0   \n",
       "\n",
       "   winner_model_b  winner_tie  label  \n",
       "0               0           0      0  \n",
       "1               1           0      1  \n",
       "2               0           1      2  \n",
       "3               0           0      0  \n",
       "4               1           0      1  "
      ]
     },
     "execution_count": 9,
     "metadata": {},
     "output_type": "execute_result"
    }
   ],
   "source": [
    "# create labels\n",
    "label = []\n",
    "for index, row in train_df.iterrows():\n",
    "    if row[\"winner_model_a\"] == 1:\n",
    "        label.append(0)\n",
    "    elif row[\"winner_model_b\"] == 1:\n",
    "        label.append(1)\n",
    "    else:\n",
    "        label.append(2) \n",
    "\n",
    "\n",
    "train_df[\"label\"] = label\n",
    "\n",
    "train_df.head()"
   ]
  },
  {
   "cell_type": "code",
   "execution_count": 10,
   "id": "73aaf2a5",
   "metadata": {
    "execution": {
     "iopub.execute_input": "2025-08-25T22:29:28.052537Z",
     "iopub.status.busy": "2025-08-25T22:29:28.052303Z",
     "iopub.status.idle": "2025-08-25T22:29:28.060947Z",
     "shell.execute_reply": "2025-08-25T22:29:28.060248Z"
    },
    "papermill": {
     "duration": 0.014107,
     "end_time": "2025-08-25T22:29:28.061942",
     "exception": false,
     "start_time": "2025-08-25T22:29:28.047835",
     "status": "completed"
    },
    "tags": []
   },
   "outputs": [
    {
     "name": "stdout",
     "output_type": "stream",
     "text": [
      "Label distribution: \n",
      " label\n",
      "0    20064\n",
      "1    19652\n",
      "2    17761\n",
      "Name: count, dtype: int64\n"
     ]
    }
   ],
   "source": [
    "# display label distribution\n",
    "print(f\"Label distribution: \\n {train_df['label'].value_counts()}\")"
   ]
  },
  {
   "cell_type": "code",
   "execution_count": 11,
   "id": "6b2ac0ca",
   "metadata": {
    "execution": {
     "iopub.execute_input": "2025-08-25T22:29:28.069871Z",
     "iopub.status.busy": "2025-08-25T22:29:28.069667Z",
     "iopub.status.idle": "2025-08-25T22:29:28.270881Z",
     "shell.execute_reply": "2025-08-25T22:29:28.270230Z"
    },
    "papermill": {
     "duration": 0.206567,
     "end_time": "2025-08-25T22:29:28.272017",
     "exception": false,
     "start_time": "2025-08-25T22:29:28.065450",
     "status": "completed"
    },
    "tags": []
   },
   "outputs": [
    {
     "data": {
      "image/png": "[encoded data removed]",
      "text/plain": [
       "<Figure size 800x500 with 1 Axes>"
      ]
     },
     "metadata": {},
     "output_type": "display_data"
    }
   ],
   "source": [
    "# Visualize distribution\n",
    "plt.figure(figsize=(8, 5))\n",
    "sns.countplot(data=train_df, x='label')\n",
    "plt.title('Target Distribution')\n",
    "plt.xlabel('Target (0: Model A, 1: Model B, 2: Tie)')\n",
    "plt.show()"
   ]
  },
  {
   "cell_type": "code",
   "execution_count": 12,
   "id": "0556803a",
   "metadata": {
    "execution": {
     "iopub.execute_input": "2025-08-25T22:29:28.281189Z",
     "iopub.status.busy": "2025-08-25T22:29:28.280597Z",
     "iopub.status.idle": "2025-08-25T22:29:28.361939Z",
     "shell.execute_reply": "2025-08-25T22:29:28.361148Z"
    },
    "papermill": {
     "duration": 0.086911,
     "end_time": "2025-08-25T22:29:28.363043",
     "exception": false,
     "start_time": "2025-08-25T22:29:28.276132",
     "status": "completed"
    },
    "tags": []
   },
   "outputs": [
    {
     "name": "stdout",
     "output_type": "stream",
     "text": [
      "Text length statistics:\n",
      "Prompt length - Mean: 352, Max: 32833\n",
      "Response A length - Mean: 1330, Max: 53299\n",
      "Response B length - Mean: 1337, Max: 52402\n",
      "Total length - Mean: 3020, Max: 75593\n",
      "95th percentile total length: 7926\n"
     ]
    }
   ],
   "source": [
    "# Text length analysis\n",
    "def analyze_text_lengths(df):\n",
    "    \"\"\"Analyze text lengths to optimize max_length parameter\"\"\"\n",
    "    df['prompt_len'] = df['prompt'].str.len()\n",
    "    df['response_a_len'] = df['response_a'].str.len()\n",
    "    df['response_b_len'] = df['response_b'].str.len()\n",
    "    df['total_len'] = df['prompt_len'] + df['response_a_len'] + df['response_b_len']\n",
    "    \n",
    "    print(\"Text length statistics:\")\n",
    "    print(f\"Prompt length - Mean: {df['prompt_len'].mean():.0f}, Max: {df['prompt_len'].max()}\")\n",
    "    print(f\"Response A length - Mean: {df['response_a_len'].mean():.0f}, Max: {df['response_a_len'].max()}\")\n",
    "    print(f\"Response B length - Mean: {df['response_b_len'].mean():.0f}, Max: {df['response_b_len'].max()}\")\n",
    "    print(f\"Total length - Mean: {df['total_len'].mean():.0f}, Max: {df['total_len'].max()}\")\n",
    "    print(f\"95th percentile total length: {df['total_len'].quantile(0.95):.0f}\")\n",
    "    \n",
    "    return df\n",
    "\n",
    "train_df = analyze_text_lengths(train_df)"
   ]
  },
  {
   "cell_type": "code",
   "execution_count": 13,
   "id": "091aba9e",
   "metadata": {
    "execution": {
     "iopub.execute_input": "2025-08-25T22:29:28.372063Z",
     "iopub.status.busy": "2025-08-25T22:29:28.371834Z",
     "iopub.status.idle": "2025-08-25T22:29:29.188356Z",
     "shell.execute_reply": "2025-08-25T22:29:29.187613Z"
    },
    "papermill": {
     "duration": 0.822874,
     "end_time": "2025-08-25T22:29:29.189976",
     "exception": false,
     "start_time": "2025-08-25T22:29:28.367102",
     "status": "completed"
    },
    "tags": []
   },
   "outputs": [
    {
     "data": {
      "image/png": "[encoded data removed]",
      "text/plain": [
       "<Figure size 1200x800 with 4 Axes>"
      ]
     },
     "metadata": {},
     "output_type": "display_data"
    }
   ],
   "source": [
    "# Plot length distributions\n",
    "fig, axes = plt.subplots(2, 2, figsize=(12, 8))\n",
    "axes[0,0].hist(train_df['prompt_len'], bins=50, alpha=0.7)\n",
    "axes[0,0].set_title('Prompt Length Distribution')\n",
    "axes[0,1].hist(train_df['response_a_len'], bins=50, alpha=0.7)\n",
    "axes[0,1].set_title('Response A Length Distribution')\n",
    "axes[1,0].hist(train_df['response_b_len'], bins=50, alpha=0.7)\n",
    "axes[1,0].set_title('Response B Length Distribution')\n",
    "axes[1,1].hist(train_df['total_len'], bins=50, alpha=0.7)\n",
    "axes[1,1].set_title('Total Length Distribution')\n",
    "plt.tight_layout()\n",
    "plt.show()"
   ]
  },
  {
   "cell_type": "code",
   "execution_count": 14,
   "id": "37de62b8",
   "metadata": {
    "execution": {
     "iopub.execute_input": "2025-08-25T22:29:29.200576Z",
     "iopub.status.busy": "2025-08-25T22:29:29.200332Z",
     "iopub.status.idle": "2025-08-25T22:29:29.204660Z",
     "shell.execute_reply": "2025-08-25T22:29:29.204087Z"
    },
    "papermill": {
     "duration": 0.010811,
     "end_time": "2025-08-25T22:29:29.205791",
     "exception": false,
     "start_time": "2025-08-25T22:29:29.194980",
     "status": "completed"
    },
    "tags": []
   },
   "outputs": [],
   "source": [
    "class CFG:\n",
    "    \n",
    "    # Model settings\n",
    "    model_name = \"microsoft/deberta-v3-small\"\n",
    "    max_length = 1024\n",
    "    \n",
    "    # Training settings  \n",
    "    batch_size = 8  # Adjust based on GPU memory\n",
    "    gradient_accumulation_steps = 4  # Effective batch size = 32\n",
    "    learning_rate = 2e-5\n",
    "    weight_decay = 0.01\n",
    "    num_epochs = 3\n",
    "    warmup_ratio = 0.1\n",
    "    \n",
    "    # CV settings\n",
    "    n_splits = 5\n",
    "    seed = 42\n",
    "    \n",
    "    # Other\n",
    "    num_workers = 2\n",
    "    save_steps = 1000\n",
    "    eval_steps = 500\n",
    "    max_grad_norm = 1.0\n",
    "    \n",
    "    device = torch.device('cuda' if torch.cuda.is_available() else 'cpu')"
   ]
  },
  {
   "cell_type": "code",
   "execution_count": 15,
   "id": "68d2cf7c",
   "metadata": {
    "execution": {
     "iopub.execute_input": "2025-08-25T22:29:29.215983Z",
     "iopub.status.busy": "2025-08-25T22:29:29.215805Z",
     "iopub.status.idle": "2025-08-25T22:29:29.223217Z",
     "shell.execute_reply": "2025-08-25T22:29:29.222769Z"
    },
    "papermill": {
     "duration": 0.013605,
     "end_time": "2025-08-25T22:29:29.224218",
     "exception": false,
     "start_time": "2025-08-25T22:29:29.210613",
     "status": "completed"
    },
    "tags": []
   },
   "outputs": [],
   "source": [
    "# Set seeds for reproducibility\n",
    "def seed_everything(seed):\n",
    "    np.random.seed(seed)\n",
    "    torch.manual_seed(seed)\n",
    "    torch.cuda.manual_seed(seed)\n",
    "    torch.cuda.manual_seed_all(seed)\n",
    "    torch.backends.cudnn.deterministic = True\n",
    "    torch.backends.cudnn.benchmark = False\n",
    "\n",
    "seed_everything(CFG.seed)"
   ]
  },
  {
   "cell_type": "code",
   "execution_count": 16,
   "id": "0a17a084",
   "metadata": {
    "execution": {
     "iopub.execute_input": "2025-08-25T22:29:29.234166Z",
     "iopub.status.busy": "2025-08-25T22:29:29.233967Z",
     "iopub.status.idle": "2025-08-25T22:29:29.239319Z",
     "shell.execute_reply": "2025-08-25T22:29:29.238796Z"
    },
    "papermill": {
     "duration": 0.011572,
     "end_time": "2025-08-25T22:29:29.240396",
     "exception": false,
     "start_time": "2025-08-25T22:29:29.228824",
     "status": "completed"
    },
    "tags": []
   },
   "outputs": [],
   "source": [
    "# Dataset class\n",
    "class PreferenceDataset(Dataset):\n",
    "    def __init__(self, df, tokenizer, max_length=1024, is_train=True):\n",
    "        self.df = df\n",
    "        self.tokenizer = tokenizer\n",
    "        self.max_length = max_length\n",
    "        self.is_train = is_train\n",
    "        \n",
    "    def __len__(self):\n",
    "        return len(self.df)\n",
    "    \n",
    "    def __getitem__(self, idx):\n",
    "        row = self.df.iloc[idx]\n",
    "        \n",
    "        # Create input text\n",
    "        prompt = row['prompt']\n",
    "        response_a = row['response_a']\n",
    "        response_b = row['response_b']\n",
    "        \n",
    "        # Format: [CLS] prompt [SEP] response_a [SEP] response_b [SEP]\n",
    "        text = f\"{prompt} {self.tokenizer.sep_token} {response_a} {self.tokenizer.sep_token} {response_b}\"\n",
    "        \n",
    "        # Tokenize\n",
    "        encoding = self.tokenizer(\n",
    "            text,\n",
    "            truncation=True,\n",
    "            padding='max_length',\n",
    "            max_length=self.max_length,\n",
    "            return_tensors='pt'\n",
    "        )\n",
    "        \n",
    "        item = {\n",
    "            'input_ids': encoding['input_ids'].flatten(),\n",
    "            'attention_mask': encoding['attention_mask'].flatten(),\n",
    "        }\n",
    "        \n",
    "        # Add labels for training data\n",
    "        if self.is_train and 'label' in self.df.columns:\n",
    "            item['labels'] = torch.tensor(row['label'], dtype=torch.long)\n",
    "            \n",
    "        return item"
   ]
  },
  {
   "cell_type": "code",
   "execution_count": null,
   "id": "7ccaf52d",
   "metadata": {
    "papermill": {
     "duration": 0.004556,
     "end_time": "2025-08-25T22:29:29.249565",
     "exception": false,
     "start_time": "2025-08-25T22:29:29.245009",
     "status": "completed"
    },
    "tags": []
   },
   "outputs": [],
   "source": []
  }
 ],
 "metadata": {
  "kaggle": {
   "accelerator": "nvidiaTeslaT4",
   "dataSources": [
    {
     "databundleVersionId": 9809560,
     "sourceId": 86518,
     "sourceType": "competition"
    }
   ],
   "dockerImageVersionId": 31040,
   "isGpuEnabled": true,
   "isInternetEnabled": true,
   "language": "python",
   "sourceType": "notebook"
  },
  "kernelspec": {
   "display_name": "Python 3",
   "language": "python",
   "name": "python3"
  },
  "language_info": {
   "codemirror_mode": {
    "name": "ipython",
    "version": 3
   },
   "file_extension": ".py",
   "mimetype": "text/x-python",
   "name": "python",
   "nbconvert_exporter": "python",
   "pygments_lexer": "ipython3",
   "version": "3.11.11"
  },
  "papermill": {
   "default_parameters": {},
   "duration": 32.240418,
   "end_time": "2025-08-25T22:29:32.600657",
   "environment_variables": {},
   "exception": null,
   "input_path": "__notebook__.ipynb",
   "output_path": "__notebook__.ipynb",
   "parameters": {},
   "start_time": "2025-08-25T22:29:00.360239",
   "version": "2.6.0"
  }
 },
 "nbformat": 4,
 "nbformat_minor": 5
}
